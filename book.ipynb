{
 "cells": [
  {
   "cell_type": "code",
   "execution_count": 1,
   "metadata": {
    "collapsed": true
   },
   "outputs": [],
   "source": [
    "import numpy as np\n",
    "from sklearn import svm\n",
    "from sklearn import datasets\n",
    "import matplotlib.pyplot as plt\n",
    "from sklearn.metrics import confusion_matrix\n",
    "from sklearn.model_selection import train_test_split\n",
    "from sklearn.model_selection import ShuffleSplit, GridSearchCV\n",
    "%matplotlib inline"
   ]
  },
  {
   "cell_type": "markdown",
   "metadata": {},
   "source": [
    "Loads dataset"
   ]
  },
  {
   "cell_type": "code",
   "execution_count": 2,
   "metadata": {
    "collapsed": false
   },
   "outputs": [],
   "source": [
    "data = datasets.load_breast_cancer()"
   ]
  },
  {
   "cell_type": "markdown",
   "metadata": {},
   "source": [
    "Splits and normalizes data.\n",
    "\n",
    "`X_full` -> complete set\n",
    "\n",
    "`X` -> test + train"
   ]
  },
  {
   "cell_type": "code",
   "execution_count": 3,
   "metadata": {
    "collapsed": true
   },
   "outputs": [],
   "source": [
    "X_full, Y_full = data['data'], data['target']\n",
    "X_full = (X_full - X_full.mean(axis=0))/np.std(X_full, axis=0)\n",
    "until = int(0.8*Y_full.shape[0])\n",
    "X = X_full[:until]\n",
    "Y = Y_full[:until]\n",
    "X_valid = X_full[until:]\n",
    "Y_valid = Y_full[until:]\n",
    "X_train, X_test, Y_train, Y_test = train_test_split(X, Y)"
   ]
  },
  {
   "cell_type": "code",
   "execution_count": 4,
   "metadata": {
    "collapsed": true
   },
   "outputs": [],
   "source": [
    "def optimize_kernel(kernel):\n",
    "    \"\"\"\n",
    "    optimizes freedom parameters over a 2D grid based on kernel type\n",
    "    \"\"\"\n",
    "    C_range = np.logspace(-2, 2, 20)\n",
    "    param_grid = dict(C=C_range)\n",
    "    if kernel == 'rbf':\n",
    "        gamma_range = np.logspace(-7, 1, 20)\n",
    "        param_grid = dict(gamma=gamma_range, C=C_range)\n",
    "        \n",
    "    cv = ShuffleSplit(n_splits=10, test_size=0.20)\n",
    "    grid = GridSearchCV(svm.SVC(kernel=kernel), param_grid=param_grid, cv=cv, n_jobs=-1)\n",
    "    grid.fit(X_train, Y_train)\n",
    "    return grid.best_params_\n",
    "\n",
    "def evaluate_kernel(kernel):\n",
    "    best_params = optimize_kernel(kernel)\n",
    "    if kernel == 'rbf':\n",
    "        svc = svm.SVC(kernel=kernel, C=best_params['C'], gamma=best_params['gamma'])\n",
    "    else:\n",
    "        svc = svm.SVC(kernel=kernel, C=best_params['C'])\n",
    "    \n",
    "    svc.fit(X_train, Y_train)\n",
    "    ys_trues = [Y_train, Y_test, Y_valid]\n",
    "    xs = [X_train, X_test, X_valid]\n",
    "    labels = ['Train', 'Test', 'Valid']\n",
    "    print(best_params)\n",
    "    for (x, y, label) in zip(xs, ys_trues, labels):\n",
    "        y_pred = svc.predict(x)\n",
    "        conf = confusion_matrix(y, y_pred)\n",
    "        print(\"%s: FP = %d, FN = %d, TP+TN = %d, Total = %d\"%(label, conf[0,1], conf[1,0], np.trace(conf), y.shape[0]))"
   ]
  },
  {
   "cell_type": "code",
   "execution_count": 5,
   "metadata": {
    "collapsed": false
   },
   "outputs": [
    {
     "name": "stdout",
     "output_type": "stream",
     "text": [
      "{'C': 37.92690190732246, 'gamma': 0.001623776739188721}\n",
      "Train: FP = 4, FN = 0, TP+TN = 337, Total = 341\n",
      "Test: FP = 3, FN = 1, TP+TN = 110, Total = 114\n",
      "Valid: FP = 1, FN = 1, TP+TN = 112, Total = 114\n"
     ]
    }
   ],
   "source": [
    "evaluate_kernel('rbf')"
   ]
  },
  {
   "cell_type": "code",
   "execution_count": 6,
   "metadata": {
    "collapsed": false
   },
   "outputs": [
    {
     "name": "stdout",
     "output_type": "stream",
     "text": [
      "{'C': 0.016237767391887217}\n",
      "Train: FP = 4, FN = 0, TP+TN = 337, Total = 341\n",
      "Test: FP = 3, FN = 1, TP+TN = 110, Total = 114\n",
      "Valid: FP = 1, FN = 1, TP+TN = 112, Total = 114\n"
     ]
    }
   ],
   "source": [
    "evaluate_kernel('linear')"
   ]
  },
  {
   "cell_type": "code",
   "execution_count": 7,
   "metadata": {
    "collapsed": false
   },
   "outputs": [
    {
     "name": "stdout",
     "output_type": "stream",
     "text": [
      "{'C': 100.0}\n",
      "Train: FP = 1, FN = 0, TP+TN = 340, Total = 341\n",
      "Test: FP = 7, FN = 2, TP+TN = 105, Total = 114\n",
      "Valid: FP = 2, FN = 3, TP+TN = 109, Total = 114\n"
     ]
    }
   ],
   "source": [
    "evaluate_kernel('poly')"
   ]
  },
  {
   "cell_type": "markdown",
   "metadata": {},
   "source": [
    "Best results were with `rbf` and `linear` because total missed score was the lowest with 10 missclassifications over the whole dataset."
   ]
  }
 ],
 "metadata": {
  "anaconda-cloud": {},
  "kernelspec": {
   "display_name": "Python [conda root]",
   "language": "python",
   "name": "conda-root-py"
  },
  "language_info": {
   "codemirror_mode": {
    "name": "ipython",
    "version": 3
   },
   "file_extension": ".py",
   "mimetype": "text/x-python",
   "name": "python",
   "nbconvert_exporter": "python",
   "pygments_lexer": "ipython3",
   "version": "3.4.4"
  }
 },
 "nbformat": 4,
 "nbformat_minor": 2
}
